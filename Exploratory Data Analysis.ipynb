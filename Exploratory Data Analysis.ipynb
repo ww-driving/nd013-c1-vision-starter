{
 "cells": [
  {
   "cell_type": "markdown",
   "metadata": {},
   "source": [
    "# Explore the dataset\n",
    "\n",
    "\n",
    "In this notebook, we will perform an EDA (Exploratory Data Analysis) on the processed Waymo dataset (data in the `processed` folder). In the first part, you will create a function to display "
   ]
  },
  {
   "cell_type": "code",
   "execution_count": null,
   "metadata": {},
   "outputs": [],
   "source": [
    "%load_ext autoreload\n",
    "%autoreload 2"
   ]
  },
  {
   "cell_type": "code",
   "execution_count": null,
   "metadata": {},
   "outputs": [],
   "source": [
    "from utils import get_dataset\n",
    "import glob\n",
    "import tensorflow as tf\n",
    "import matplotlib.pyplot as plt\n",
    "import matplotlib.image as mpimg\n",
    "import numpy as np\n",
    "\n",
    "%matplotlib inline"
   ]
  },
  {
   "cell_type": "code",
   "execution_count": null,
   "metadata": {},
   "outputs": [],
   "source": [
    "tfrecords = glob.glob('data/processed/*.tfrecord')\n",
    "dataset = get_dataset(tfrecords[0])"
   ]
  },
  {
   "cell_type": "markdown",
   "metadata": {},
   "source": [
    "## Write a function to display an image and the bounding boxes\n",
    "\n",
    "Implement the `display_instances` function below. This function takes a batch as an input and display an image with its corresponding bounding boxes. The only requirement is that the classes should be color coded (eg, vehicles in red, pedestrians in blue, cyclist in green)."
   ]
  },
  {
   "cell_type": "code",
   "execution_count": null,
   "metadata": {},
   "outputs": [],
   "source": [
    "def display_instances(batch, save_dir=None):\n",
    "    \"\"\"\n",
    "    This function takes a batch from the dataset and display the image with \n",
    "    the associated bounding boxes.\n",
    "    \"\"\"\n",
    "    import object_detection.utils.visualization_utils as vis_util\n",
    "    image, boxes, classes = batch['image'], batch['groundtruth_boxes'], batch['groundtruth_classes']\n",
    "    output = image.squeeze().copy()\n",
    "    category_index = {1:{'id':1, 'name':'vehicle'}, 2:{'id':2, 'name':'pedestrian'}, 4:{'id':4, 'name':'cyclist'}}\n",
    "    output = vis_util.visualize_boxes_and_labels_on_image_array(\n",
    "        output, boxes, classes, np.ones_like(classes), category_index, \n",
    "        line_thickness=1,\n",
    "        max_boxes_to_draw=None,\n",
    "        use_normalized_coordinates=True, \n",
    "        min_score_thresh=0.5,\n",
    "        groundtruth_box_visualization_color=(255,0,0),\n",
    "        skip_scores=True,\n",
    "        skip_labels=True,\n",
    "    )\n",
    "    if save_dir is None:\n",
    "        plt.figure(figsize=(15, 15))\n",
    "        plt.imshow(output)\n",
    "        plt.show()\n",
    "    else:\n",
    "        mpimg.imsave(f'{save_dir}/{batch[\"filename\"].decode(\"utf-8\")}.jpg', output)"
   ]
  },
  {
   "cell_type": "markdown",
   "metadata": {},
   "source": [
    "## Display 10 images \n",
    "\n",
    "Using the dataset created in the second cell and the function you just coded, display 10 random images with the associated bounding boxes. You can use the methods `take` and `shuffle` on the dataset."
   ]
  },
  {
   "cell_type": "code",
   "execution_count": null,
   "metadata": {},
   "outputs": [],
   "source": [
    "for i in range(10):\n",
    "    sample = list(dataset.shuffle(1000).take(1).as_numpy_iterator())[0]\n",
    "    display_instances(sample)"
   ]
  },
  {
   "cell_type": "markdown",
   "metadata": {},
   "source": [
    "## Additional EDA\n",
    "\n",
    "In this last part, you are free to perform any additional analysis of the dataset. What else would like to know about the data?\n",
    "For example, think about data distribution. So far, you have only looked at a single file..."
   ]
  },
  {
   "cell_type": "code",
   "execution_count": null,
   "metadata": {},
   "outputs": [],
   "source": [
    "for rec in tfrecords:\n",
    "    dataset = get_dataset(rec)\n",
    "    sample = list(dataset.shuffle(1000).take(1).as_numpy_iterator())[0]\n",
    "    display_instances(sample, save_dir='images')"
   ]
  }
 ],
 "metadata": {
  "kernelspec": {
   "display_name": "Python 3",
   "language": "python",
   "name": "python3"
  },
  "language_info": {
   "codemirror_mode": {
    "name": "ipython",
    "version": 3
   },
   "file_extension": ".py",
   "mimetype": "text/x-python",
   "name": "python",
   "nbconvert_exporter": "python",
   "pygments_lexer": "ipython3",
   "version": "3.8.5"
  }
 },
 "nbformat": 4,
 "nbformat_minor": 4
}
